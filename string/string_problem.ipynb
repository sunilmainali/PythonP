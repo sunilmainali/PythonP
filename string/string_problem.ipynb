{
 "cells": [
  {
   "cell_type": "code",
   "execution_count": 1,
   "id": "4a4b4d14-b8ce-4b45-b288-f13b4dde9fc3",
   "metadata": {},
   "outputs": [
    {
     "name": "stdout",
     "output_type": "stream",
     "text": [
      "2391655324784\n",
      "2391655324784\n"
     ]
    }
   ],
   "source": [
    "#program to show similar string hold same identity\n",
    "str1='hello'\n",
    "str2='hello'\n",
    "print(id(str1))\n",
    "print(id(str2))"
   ]
  },
  {
   "cell_type": "code",
   "execution_count": 2,
   "id": "3bccae6d-3d22-44a9-b468-0ef54f9288b9",
   "metadata": {},
   "outputs": [
    {
     "name": "stdout",
     "output_type": "stream",
     "text": [
      "6\n",
      "26\n"
     ]
    }
   ],
   "source": [
    "#program that showcase the use of find methods in string\n",
    "str1='hello please save me once please'\n",
    "str2='please'\n",
    "print(str1.find(str2))#prints the first occurence of the word in the string\n",
    "print(str1.rfind(str2))#last occurence"
   ]
  },
  {
   "cell_type": "code",
   "execution_count": 3,
   "id": "ed130ad2-ef3a-4709-b881-e2a20c7d18d1",
   "metadata": {},
   "outputs": [
    {
     "name": "stdout",
     "output_type": "stream",
     "text": [
      "hello please save me once please does not begins with please\n"
     ]
    }
   ],
   "source": [
    "#program that showcase the use of startswith\n",
    "str1='hello please save me once please'\n",
    "str2='please'\n",
    "if str1.startswith(str2):\n",
    "    print(f\"{str1} begins with {str2}\")\n",
    "else:\n",
    "    print(f\"{str1} does not begins with {str2}\")\n"
   ]
  },
  {
   "cell_type": "code",
   "execution_count": 4,
   "id": "78ab2fae-4c35-4d95-abce-138e0477f306",
   "metadata": {},
   "outputs": [
    {
     "name": "stdout",
     "output_type": "stream",
     "text": [
      "['hello please save me once please'] ends with please\n"
     ]
    }
   ],
   "source": [
    "#program that showcase the use of endsswith\n",
    "str1='hello please save me once please'\n",
    "str2='please'\n",
    "if str1.endswith(str2):\n",
    "    print(f\"{[str1]:} ends with {str2}\")\n",
    "else:\n",
    "    print(f\"{[str1]:} does not ends with {str2}\")\n"
   ]
  },
  {
   "cell_type": "code",
   "execution_count": 5,
   "id": "7817c854-a9d6-4b94-a59f-30e4db5db4c1",
   "metadata": {},
   "outputs": [
    {
     "name": "stdout",
     "output_type": "stream",
     "text": [
      "All the characters in str1 are lower case!\n",
      "All the characters in str2 are not in upper case!\n"
     ]
    }
   ],
   "source": [
    "str1='hello please save me once please'\n",
    "str2='please'\n",
    "\n",
    "# checking if all characters in str1 are lower cased\n",
    "if str1.islower():\n",
    "    print(\"All the characters in str1 are lower case!\")\n",
    "else:\n",
    "    print(\"All the characters in str1 are not in lower case!\")\n",
    "\n",
    "# checking if all characters in str are upper cased\n",
    "if str1.isupper():\n",
    "    print(\"All the characters in str2 are in upper case!\")\n",
    "else:\n",
    "    print(\"All the characters in str2 are not in upper case!\")\n",
    "\n",
    "\n"
   ]
  },
  {
   "cell_type": "code",
   "execution_count": 6,
   "id": "6c95250e-d8d0-4e96-a415-675941e24927",
   "metadata": {},
   "outputs": [
    {
     "name": "stdout",
     "output_type": "stream",
     "text": [
      "hello please save me once PLEASE\n",
      "HELLO PLEASE SAVE ME ONCE PLEASE\n",
      "hello please save me once please\n",
      "HELLO PLEASE SAVE ME ONCE please\n",
      "Hello Please Save Me Once Please\n"
     ]
    }
   ],
   "source": [
    "str1='hello please save me once PLEASE'\n",
    "print(str1)\n",
    "print(str1.upper()) # Converting string into its upper case\n",
    "print(str1.lower()) # Converting string into its lower case\n",
    "print(str1.swapcase())#upper into lower and viceversa\n",
    "print(str1.title())#into title case"
   ]
  },
  {
   "cell_type": "code",
   "execution_count": 7,
   "id": "f7ab573c-f592-4cec-b51f-2633bef10c3c",
   "metadata": {},
   "outputs": [
    {
     "name": "stdout",
     "output_type": "stream",
     "text": [
      "6\n",
      "0\n",
      "-------PLEASE-------\n",
      "--------------PLEASE\n",
      "PLEASE--------------\n"
     ]
    }
   ],
   "source": [
    "str1='PLEASE'\n",
    "print(len(str1))\n",
    "print(str1.count('e'))\n",
    "print(str1.center(20,'-'))#center justified \n",
    "print(str1.rjust(20,'-'))#right shift the str\n",
    "print(str1.ljust(20,'-'))#left shift the str"
   ]
  },
  {
   "cell_type": "code",
   "execution_count": 8,
   "id": "d71f00be-3fd6-4c1b-90bb-3584349c2c55",
   "metadata": {},
   "outputs": [
    {
     "name": "stdout",
     "output_type": "stream",
     "text": [
      "hello_guys_how_are_you\n",
      "hello_guys_how_are_you\n"
     ]
    }
   ],
   "source": [
    "str1=('hello','guys','how','are','you')\n",
    "str2='_'\n",
    "print(str2.join(str1))\n",
    "print('_'.join(str1))\n"
   ]
  },
  {
   "cell_type": "code",
   "execution_count": 9,
   "id": "f9f29492-87a1-4637-90c8-0bc19346c1d1",
   "metadata": {},
   "outputs": [
    {
     "name": "stdout",
     "output_type": "stream",
     "text": [
      "just let me do\n",
      "just let me do---\n",
      "---just let me do\n"
     ]
    }
   ],
   "source": [
    "str = \"---just let me do---\"\n",
    "print(str.strip('-'))# removes '-' from both side\n",
    "print(str.lstrip('-'))# removes '-' from left side\n",
    "print(str.rstrip('-')) #removes '-' from right side"
   ]
  },
  {
   "cell_type": "code",
   "execution_count": 10,
   "id": "3bed171c-4736-46ee-9005-99897f03bb7b",
   "metadata": {},
   "outputs": [
    {
     "name": "stdout",
     "output_type": "stream",
     "text": [
      "{104: 104, 101: 111, 121: 119, 117: 108, 110: 105}\n",
      "sliil maiiali\n"
     ]
    }
   ],
   "source": [
    "str0='sunil mainali'\n",
    "str1='heyun' # str1 and str2 must have same length \n",
    "str2='howli'\n",
    "mapped=str.maketrans(str1,str2) # used to map the contents of string 1 with string 2 with respective indices to be translated later using translate(). \n",
    "print(mapped)\n",
    "\n",
    "print(str0.translate(mapped)) #  used to swap the string elements mapped with the help of maketrans()."
   ]
  },
  {
   "cell_type": "code",
   "execution_count": 16,
   "id": "a5408809-6947-4dcb-af0b-e9bc82468aee",
   "metadata": {},
   "outputs": [
    {
     "name": "stdout",
     "output_type": "stream",
     "text": [
      "roplaco\n",
      "hello give me your doll okey! okey!\n"
     ]
    }
   ],
   "source": [
    "#program to replace string\n",
    "str='replace'\n",
    "print(str.replace('e','o'))\n",
    "\n",
    "str0='hello give me your doll please! please!'\n",
    "str1='please'\n",
    "str2='okey'\n",
    "\n",
    "print(str0.replace(str1,str2))\n"
   ]
  },
  {
   "cell_type": "code",
   "execution_count": 18,
   "id": "9cda428e-b75b-46c8-800a-ce99dcaf2d0c",
   "metadata": {},
   "outputs": [
    {
     "name": "stdout",
     "output_type": "stream",
     "text": [
      "sunil\tis\tsunil\n",
      "sunil   is      sunil\n",
      "sunil is  sunil\n",
      "sunil     is   sunil\n"
     ]
    }
   ],
   "source": [
    "# Python code to illustrate expandtabs() \n",
    "string = 'sunil\\tis\\tsunil'\n",
    "print(string)\n",
    "  \n",
    "# No parameters, by default size is 8 \n",
    "print (string.expandtabs()) \n",
    "  \n",
    "# tab size taken as 2 \n",
    "print(string.expandtabs(2)) \n",
    "  \n",
    "# tab size taken as 5 \n",
    "print(string.expandtabs(5)) "
   ]
  },
  {
   "cell_type": "code",
   "execution_count": 29,
   "id": "b586a7aa-19e0-431d-875c-5450a4732b89",
   "metadata": {},
   "outputs": [
    {
     "name": "stdout",
     "output_type": "stream",
     "text": [
      "vowel count : 6\n",
      "vowel found : ['u', 'i', 'a', 'i', 'a', 'i']\n"
     ]
    }
   ],
   "source": [
    "# program to count vowel in string using list method\n",
    "def count_vowel(input_str):\n",
    "    vowel=set(\"aeiouAEIOU\")\n",
    "    v_count=0\n",
    "    f_vowel=[] # you can initialize empty set and use add method, if you do not want duplicates vowels\n",
    "\n",
    "    for char in input_str:\n",
    "        if char in vowel:\n",
    "            v_count+=1\n",
    "            f_vowel.append(char)\n",
    "    return v_count,f_vowel\n",
    "\n",
    "input_str='sunil mainali'\n",
    "v_count,f_vowel=count_vowel(input_str)\n",
    "\n",
    "print('vowel count :',v_count)\n",
    "print('vowel found :',f_vowel)\n",
    "\n"
   ]
  },
  {
   "cell_type": "code",
   "execution_count": 31,
   "id": "72415681-d92d-4037-8558-662b533af622",
   "metadata": {},
   "outputs": [
    {
     "name": "stdout",
     "output_type": "stream",
     "text": [
      "Vowel count: 6\n",
      "Vowels found: {'u': 1, 'i': 3, 'a': 2}\n"
     ]
    }
   ],
   "source": [
    "# using dictionary\n",
    "def count_vowel(input_str):\n",
    "    vowels = set(\"aeiouAEIOU\")\n",
    "    f_vowel = {}  # Dictionary to store vowel counts\n",
    "\n",
    "    for char in input_str:\n",
    "        if char in vowels:\n",
    "            if char in f_vowel:\n",
    "                f_vowel[char] += 1  # Increment count if vowel already exists\n",
    "            else:\n",
    "                f_vowel[char] = 1  # Initialize count if vowel is not in the dictionary\n",
    "\n",
    "    v_count = sum(f_vowel.values())  # Total count of all vowels\n",
    "    return v_count, f_vowel\n",
    "\n",
    "input_str = 'sunil mainali'\n",
    "v_count, f_vowel = count_vowel(input_str)\n",
    "\n",
    "print('Vowel count:', v_count)\n",
    "print('Vowels found:', f_vowel)"
   ]
  },
  {
   "cell_type": "code",
   "execution_count": 34,
   "id": "9aed450b-93f8-4375-94f6-05154f398203",
   "metadata": {},
   "outputs": [
    {
     "data": {
      "text/plain": [
       "'linus'"
      ]
     },
     "execution_count": 34,
     "metadata": {},
     "output_type": "execute_result"
    }
   ],
   "source": [
    "# program to reverse a string\n",
    "str='sunil'\n",
    "print(str[::-1])"
   ]
  },
  {
   "cell_type": "code",
   "execution_count": null,
   "id": "c5b4314c-e5b0-4024-bdf3-902954fb43ef",
   "metadata": {},
   "outputs": [],
   "source": []
  }
 ],
 "metadata": {
  "kernelspec": {
   "display_name": "Python 3 (ipykernel)",
   "language": "python",
   "name": "python3"
  },
  "language_info": {
   "codemirror_mode": {
    "name": "ipython",
    "version": 3
   },
   "file_extension": ".py",
   "mimetype": "text/x-python",
   "name": "python",
   "nbconvert_exporter": "python",
   "pygments_lexer": "ipython3",
   "version": "3.11.5"
  }
 },
 "nbformat": 4,
 "nbformat_minor": 5
}
