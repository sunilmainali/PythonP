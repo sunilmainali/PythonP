{
 "cells": [
  {
   "cell_type": "markdown",
   "id": "d5f8ce30-4dc4-4fb4-b680-a25b22a1eabb",
   "metadata": {},
   "source": [
    "## Python Conditional statements\n",
    "The if statement is used in Python to check whether a condition is True or False, and then perform an action based on that condition. The basic syntax of the if statement is as follows:\n",
    "\n",
    "```python\n",
    "if condition:\n",
    "    do something \n",
    "    \n",
    "The condition is an expression that returns a boolean value (True or False). If the condition is True, then the code block that follows the if statement is executed. If the condition is False, then the code block is skipped.\n",
    "\n",
    "Here is an example of how to use the if statement in Python:"
   ]
  },
  {
   "cell_type": "code",
   "execution_count": 2,
   "id": "4e858fff-0e66-4a71-9327-bf93a16d1876",
   "metadata": {},
   "outputs": [
    {
     "name": "stdout",
     "output_type": "stream",
     "text": [
      "Both x and y are positive\n"
     ]
    }
   ],
   "source": [
    "x = 10\n",
    "y = 5\n",
    "\n",
    "if x > 0 and y > 0:\n",
    "    print(\"Both x and y are positive\")"
   ]
  },
  {
   "cell_type": "code",
   "execution_count": null,
   "id": "a97df764-f16f-49fb-92d6-e74610c9b9a6",
   "metadata": {},
   "outputs": [],
   "source": []
  },
  {
   "cell_type": "markdown",
   "id": "87ed59b2-0b08-408c-9c52-42e89fac16cd",
   "metadata": {},
   "source": [
    "```python\n",
    "we can use multiple if elif else block using the below syntax\n",
    "if condition 1:\n",
    "    do something\n",
    "elif condition 2:\n",
    "    do something\n",
    "...\n",
    "...\n",
    "elif condition n:\n",
    "    do something\n",
    "else:\n",
    "    do something"
   ]
  },
  {
   "cell_type": "markdown",
   "id": "96432dbf-2f59-441a-809c-ab8a42d4e0f3",
   "metadata": {},
   "source": [
    "#### Question 1: WAP to check if number is positive , negative or zero."
   ]
  },
  {
   "cell_type": "code",
   "execution_count": 8,
   "id": "e48b0582-277f-47a1-9f83-bc1e633cee23",
   "metadata": {},
   "outputs": [
    {
     "name": "stdin",
     "output_type": "stream",
     "text": [
      "enter the value of x -2\n"
     ]
    },
    {
     "name": "stdout",
     "output_type": "stream",
     "text": [
      "-2.0 is negative\n"
     ]
    }
   ],
   "source": [
    "def check(x):\n",
    "    if x>0:\n",
    "        print(f\"{x} is positive\")\n",
    "    elif x<0:\n",
    "        print(f\"{x} is negative\")\n",
    "    else:\n",
    "        print(f\"{x} is zero\")\n",
    "    \n",
    "x=float(input(\"enter the value of x\"))\n",
    "check(x)"
   ]
  },
  {
   "cell_type": "markdown",
   "id": "4dd7b66e-0e11-4a33-9495-0a2e8eed0e0c",
   "metadata": {},
   "source": [
    "####  WAP to grade a number (100-80) Grade A, (80-60) Grade B , (60-40) Grade C and less than 40 Grade D."
   ]
  },
  {
   "cell_type": "code",
   "execution_count": 44,
   "id": "79bbbca3-5635-464c-8442-3740e76bd0e0",
   "metadata": {},
   "outputs": [
    {
     "name": "stdin",
     "output_type": "stream",
     "text": [
      "Enter your marks. 65\n"
     ]
    },
    {
     "name": "stdout",
     "output_type": "stream",
     "text": [
      "Grade B\n"
     ]
    }
   ],
   "source": [
    "def check(marks):\n",
    "    if marks<=100 and marks>=80:\n",
    "        print(\" grade A\")\n",
    "    elif marks<80 and marks>=60:\n",
    "        print('Grade B')\n",
    "    elif marks<60 and marks >=40:\n",
    "        print('Grade C')\n",
    "    else:\n",
    "        print('Grade D')\n",
    "marks = int(input(\"Enter your marks.\"))\n",
    "check(marks)\n"
   ]
  },
  {
   "cell_type": "markdown",
   "id": "f43a1892-2f69-4d25-b6b2-b018434bd364",
   "metadata": {},
   "source": [
    "#### 1. Write a program to find the greatest of four numbers entered by the user."
   ]
  },
  {
   "cell_type": "code",
   "execution_count": 47,
   "id": "4ed76dab-7c3c-4d1b-8903-8c46723a02f0",
   "metadata": {},
   "outputs": [
    {
     "name": "stdin",
     "output_type": "stream",
     "text": [
      "enter num1: 5\n",
      "enter num2: 9\n",
      "enter num3: 1\n",
      "enter num4: 2\n"
     ]
    },
    {
     "name": "stdout",
     "output_type": "stream",
     "text": [
      "the greates number is: \n"
     ]
    },
    {
     "data": {
      "text/plain": [
       "9.0"
      ]
     },
     "execution_count": 47,
     "metadata": {},
     "output_type": "execute_result"
    }
   ],
   "source": [
    "def findGreatest(n1,n2,n3,n4):\n",
    "    return max(n1,n2,n3,n4)\n",
    "n1=float(input(\"enter num1:\"))\n",
    "n2=float(input(\"enter num2:\"))\n",
    "n3=float(input(\"enter num3:\"))\n",
    "n4=float(input(\"enter num4:\"))\n",
    "print('the greates number is: ')\n",
    "findGreatest(n1,n2,n3,n4)"
   ]
  },
  {
   "cell_type": "markdown",
   "id": "cbc4098f-4f34-4fcc-8dc6-a8daae4db26c",
   "metadata": {},
   "source": [
    "#### 2. Write a program to find out whether a student has passed or failed if it requires a total of 40% and at least 33% in each subject to pass. Assume 3 subjects and take marks as an input from the user.\n",
    "\n",
    "\n"
   ]
  },
  {
   "cell_type": "code",
   "execution_count": 51,
   "id": "b6bfafb7-bbcd-48e0-8443-fc3a0c3e6172",
   "metadata": {},
   "outputs": [
    {
     "name": "stdin",
     "output_type": "stream",
     "text": [
      "enter your subject1 marks: 33\n",
      "enter your subject2 marks: 32\n",
      "enter your subject3 marks: 100\n"
     ]
    },
    {
     "name": "stdout",
     "output_type": "stream",
     "text": [
      "55.00000000000001\n",
      "fail\n"
     ]
    }
   ],
   "source": [
    "sub1=float(input(\"enter your subject1 marks:\"))\n",
    "sub2=float(input(\"enter your subject2 marks:\"))\n",
    "sub3=float(input(\"enter your subject3 marks:\"))\n",
    "total_percentage=((sub1+sub2+sub3)/300)*100\n",
    "print(total_percentage)\n",
    "if total_percentage >=40 and sub1>=33 and sub2>=33 and sub3>=33:\n",
    "    print(\"pass\")\n",
    "else:\n",
    "    print(\"fail\")"
   ]
  },
  {
   "cell_type": "markdown",
   "id": "84e88197-996a-4258-a448-e1619b404314",
   "metadata": {},
   "source": [
    "#### 3. A spam comment is defined as a text containing following keywords:\n",
    "“Make a lot of money”, “buy now”, “subscribe this”, “click this”. Write a program\n",
    "to detect these spams."
   ]
  },
  {
   "cell_type": "code",
   "execution_count": 56,
   "id": "17ad91a2-605f-4e59-8cd0-5bde86d245fa",
   "metadata": {},
   "outputs": [
    {
     "name": "stdin",
     "output_type": "stream",
     "text": [
      "enter your comment hello man please buy now\n"
     ]
    },
    {
     "name": "stdout",
     "output_type": "stream",
     "text": [
      "hello man please buy now is spam comment\n"
     ]
    }
   ],
   "source": [
    "p1='Make a lot of money'\n",
    "p2='buy now'\n",
    "p3='subscribe this'\n",
    "p4='click this'\n",
    "comment=input('enter your comment')\n",
    "if (p1.lower() in comment.lower()) or (p2.lower() in comment.lower()) or (p3.lower() in comment.lower()) or (p4.lower() in comment.lower()):\n",
    "    print(f'{comment} is spam comment')\n",
    "else:\n",
    "    print(f'{[comment]} is not spam comment')\n",
    "    "
   ]
  },
  {
   "cell_type": "markdown",
   "id": "6f8059bf-eb70-40b4-a5e0-20178e16fec9",
   "metadata": {},
   "source": [
    "#### 4. Write a program to find whether a given username contains less than 10 characters or not.\n"
   ]
  },
  {
   "cell_type": "code",
   "execution_count": 58,
   "id": "65321e6e-5bff-4438-8621-57220229a9b3",
   "metadata": {},
   "outputs": [
    {
     "name": "stdin",
     "output_type": "stream",
     "text": [
      "enter your username:  sunil mainali\n"
     ]
    },
    {
     "name": "stdout",
     "output_type": "stream",
     "text": [
      "['sunil mainali']  does not contain less than 10 characters\n"
     ]
    }
   ],
   "source": [
    "name=input(\"enter your username: \")\n",
    "if len(name)<10:\n",
    "    print(f\"{[name]} contain less than 10 characters\")\n",
    "else:\n",
    "     print(f\"{[name]}  does not contain less than 10 characters\")\n",
    "    "
   ]
  },
  {
   "cell_type": "markdown",
   "id": "ffa18e41-d680-402c-94e2-558fc7b22cee",
   "metadata": {},
   "source": [
    "## python loop statement"
   ]
  },
  {
   "cell_type": "markdown",
   "id": "d212bf93-ec38-4cce-b340-4220ef5903d6",
   "metadata": {},
   "source": [
    "##### In Python, loops are used to execute a block of code repeatedly. There are two types of loops in Python: for loops and while loops."
   ]
  },
  {
   "cell_type": "markdown",
   "id": "cfda5d23-bb38-4acc-9c08-df5a37d987e8",
   "metadata": {},
   "source": [
    "### 1. python for loop\n",
    "The for loop is used in Python to iterate over a sequence of values, such as a list, tuple, string, or range. The basic syntax of a for loop is as follows:\n",
    "\n",
    "```python\n",
    "for variable in sequence:\n",
    "    do something\n",
    "\n",
    "The variable is a new variable that is created with each iteration of the loop, and takes on the value of the next element in the sequence. The code block that follows the for statement is executed for each value in the sequence.\n",
    "\n",
    "Here's an example of how to use the for loop to iterate over a list:"
   ]
  },
  {
   "cell_type": "code",
   "execution_count": 12,
   "id": "1bcc4a29-fa93-4ed1-ae6a-e8f7ec757f7f",
   "metadata": {},
   "outputs": [
    {
     "name": "stdout",
     "output_type": "stream",
     "text": [
      "apple\n",
      "banana\n",
      "mango\n",
      "cherry\n"
     ]
    }
   ],
   "source": [
    "fruits=['apple','banana','mango','cherry']\n",
    "for fruit in fruits:\n",
    "    print(fruit)"
   ]
  },
  {
   "cell_type": "markdown",
   "id": "c681d164-9cb8-4286-b526-9a4c929b1734",
   "metadata": {},
   "source": [
    "##### In this example, the for loop iterates over each element in the fruits list, and assigns the value of each element to the fruit variable. The code block that follows the for statement (which is just a print statement in this case) is executed for each element in the list.\n",
    "\n",
    "\n",
    "##### The range function is commonly used in for loops to generate a sequence of integers. Here's an example:"
   ]
  },
  {
   "cell_type": "code",
   "execution_count": 13,
   "id": "715e284e-d0a5-4340-af40-31babb509829",
   "metadata": {},
   "outputs": [
    {
     "data": {
      "text/plain": [
       "[0, 1, 2, 3, 4]"
      ]
     },
     "execution_count": 13,
     "metadata": {},
     "output_type": "execute_result"
    }
   ],
   "source": [
    "list(range(5))"
   ]
  },
  {
   "cell_type": "code",
   "execution_count": 14,
   "id": "505fde3a-ae64-4266-979f-d093cf2f89b7",
   "metadata": {},
   "outputs": [
    {
     "name": "stdout",
     "output_type": "stream",
     "text": [
      "0\n",
      "2\n",
      "4\n",
      "6\n",
      "8\n"
     ]
    }
   ],
   "source": [
    "for i in range(5):\n",
    "    print(i*2)"
   ]
  },
  {
   "cell_type": "markdown",
   "id": "c77adf34-69ca-4059-afce-4a71c1df51e2",
   "metadata": {},
   "source": [
    "##### Nested for loops can also be used to iterate over multiple sequences. Here's an example:"
   ]
  },
  {
   "cell_type": "code",
   "execution_count": 21,
   "id": "3fe7eb5d-19c8-4ba0-bb3e-d09333178bf5",
   "metadata": {},
   "outputs": [
    {
     "name": "stdout",
     "output_type": "stream",
     "text": [
      "red apple\n",
      "red banana\n",
      "red mango\n",
      "red cherry\n",
      "big apple\n",
      "big banana\n",
      "big mango\n",
      "big cherry\n",
      "tasty apple\n",
      "tasty banana\n",
      "tasty mango\n",
      "tasty cherry\n"
     ]
    }
   ],
   "source": [
    "adj=['red','big','tasty']\n",
    "fruits=['apple','banana','mango','cherry']\n",
    "for a in adj:\n",
    "    for fruit in fruits:\n",
    "        print(a,fruit)\n",
    "\n"
   ]
  },
  {
   "cell_type": "markdown",
   "id": "8e417550-226f-49a4-9f76-c28d281ae80f",
   "metadata": {},
   "source": [
    "#### Question 1 : Write a Program to Calculate the Sum of the First N Natural Numbers:"
   ]
  },
  {
   "cell_type": "code",
   "execution_count": 26,
   "id": "0fe70265-1655-4e77-a3b8-3c69b5eb472b",
   "metadata": {},
   "outputs": [
    {
     "name": "stdout",
     "output_type": "stream",
     "text": [
      "the sum of first 3 natural number is: 6 \n"
     ]
    }
   ],
   "source": [
    "def sum(n):\n",
    "    value=0\n",
    "    for s in range(n+1):\n",
    "        value=value+s\n",
    "    print(f\"the sum of first {n} natural number is: {value} \")\n",
    "n=3\n",
    "sum(n)\n",
    "    "
   ]
  },
  {
   "cell_type": "markdown",
   "id": "67de0054-1a3d-4557-ab52-56345931320d",
   "metadata": {},
   "source": [
    "#### Question 2 : Write a Program to Display the Multiplication Table of a Given Number:"
   ]
  },
  {
   "cell_type": "code",
   "execution_count": 32,
   "id": "a3e2561f-dae8-4570-864c-8ddafe0e56b2",
   "metadata": {},
   "outputs": [
    {
     "name": "stdout",
     "output_type": "stream",
     "text": [
      " the multiplication table of 4 is :\n",
      " \n",
      " 4x1=4 \n",
      " 4x2=8 \n",
      " 4x3=12 \n",
      " 4x4=16 \n",
      " 4x5=20 \n",
      " 4x6=24 \n",
      " 4x7=28 \n",
      " 4x8=32 \n",
      " 4x9=36 \n",
      " 4x10=40 \n"
     ]
    }
   ],
   "source": [
    "num=4\n",
    "print(f\" the multiplication table of {num} is :\\n \")\n",
    "for i in range(1,11):\n",
    "    product=num*i\n",
    "    print(f\" {num}x{i}={product} \")"
   ]
  },
  {
   "cell_type": "code",
   "execution_count": 92,
   "id": "09a7a5af-48f1-44b0-9032-d769734c71f6",
   "metadata": {},
   "outputs": [
    {
     "name": "stdout",
     "output_type": "stream",
     "text": [
      "*\n",
      "**\n",
      "***\n",
      "****\n"
     ]
    }
   ],
   "source": [
    "# *\n",
    "# **\n",
    "# ***\n",
    "# ****\n",
    "\n",
    "for i in range(1,5):\n",
    "    res='*' * i\n",
    "    print(res)"
   ]
  },
  {
   "cell_type": "markdown",
   "id": "8b2d6630-6d1a-4efb-bcdd-a86a1f920867",
   "metadata": {},
   "source": [
    "### 2. Python While Loop\n",
    "The while loop is used in Python to repeat a block of code as long as a certain condition is true. The basic syntax of a while loop is as follows:\n",
    "```python\n",
    "while condition:\n",
    "    do something\n"
   ]
  },
  {
   "cell_type": "markdown",
   "id": "d4016386-828c-400f-b6d8-fbb963d03ed9",
   "metadata": {},
   "source": [
    "The condition is an expression that returns a boolean value (True or False). The code block that follows the while statement is executed repeatedly as long as the condition is True. If the condition is initially False, then the code block is skipped entirely.\n",
    "\n",
    "Here's an example of how to use the while loop in Python:"
   ]
  },
  {
   "cell_type": "code",
   "execution_count": 34,
   "id": "4305b8bb-d162-4d40-a916-881d9695a774",
   "metadata": {},
   "outputs": [
    {
     "name": "stdout",
     "output_type": "stream",
     "text": [
      "0\n",
      "1\n",
      "2\n",
      "3\n",
      "4\n"
     ]
    }
   ],
   "source": [
    "i = 0\n",
    "\n",
    "while i < 5:\n",
    "    print(i)\n",
    "    i += 1"
   ]
  },
  {
   "cell_type": "markdown",
   "id": "74ffcc72-0dbc-41e1-af4a-d9785e73d370",
   "metadata": {},
   "source": [
    "In this example, the while loop repeats the code block as long as i is less than 5. The code block that follows the while statement (which is just a print statement and an increment statement in this case) is executed repeatedly as long as the condition is True.\n",
    "\n",
    "It's important to be careful with while loops to avoid creating an infinite loop. If the condition is always True, then the loop will continue to run indefinitely. Here's an example of an infinite loop:"
   ]
  },
  {
   "cell_type": "code",
   "execution_count": null,
   "id": "2392c7ac-d2b7-4859-a1ce-02db9978e488",
   "metadata": {},
   "outputs": [],
   "source": [
    "i = 0\n",
    "\n",
    "while i < 5:\n",
    "    print(i)"
   ]
  },
  {
   "cell_type": "markdown",
   "id": "dbc52cbb-d986-4be9-8f95-a156452a565b",
   "metadata": {},
   "source": [
    "In this example, the while loop condition is initially True, and the code block is executed repeatedly. However, the value of i is never updated within the loop, so the condition will always be True and the loop will continue to run indefinitely.\n",
    "\n",
    "To avoid infinite loops, it's important to make sure that the condition in the while loop will eventually become False. One common technique is to use a variable that is updated within the loop, so  that the condition will eventually no longer be true. Here's an example:"
   ]
  },
  {
   "cell_type": "code",
   "execution_count": 35,
   "id": "0caac7c4-cdc5-49f1-805c-2fdd09e534c4",
   "metadata": {},
   "outputs": [
    {
     "name": "stdout",
     "output_type": "stream",
     "text": [
      "0\n",
      "1\n",
      "2\n",
      "3\n",
      "4\n",
      "5\n",
      "6\n",
      "7\n",
      "8\n",
      "9\n"
     ]
    }
   ],
   "source": [
    "count = 0\n",
    "\n",
    "while count < 10:\n",
    "    print(count)\n",
    "    count += 1\n",
    "    # count = count + 1"
   ]
  },
  {
   "cell_type": "markdown",
   "id": "caaac920-680f-4734-876d-64c56c6f2568",
   "metadata": {},
   "source": [
    "In this example, the count variable is updated within the loop, and the condition will eventually become False when count is no longer less than 10.\n",
    "\n",
    "If we want to terminate loops at certain point we can use break inside the loops (works for both for and while loops). Here's an example:"
   ]
  },
  {
   "cell_type": "code",
   "execution_count": 36,
   "id": "70ae0a38-908a-4038-b463-fbcdb06c894e",
   "metadata": {},
   "outputs": [
    {
     "name": "stdout",
     "output_type": "stream",
     "text": [
      "0\n",
      "1\n",
      "2\n",
      "3\n",
      "4\n"
     ]
    }
   ],
   "source": [
    "count = 0\n",
    "\n",
    "while count < 10:\n",
    "    print(count)\n",
    "    count += 1\n",
    "    if count == 5:\n",
    "        break"
   ]
  },
  {
   "cell_type": "markdown",
   "id": "9c3de142-907e-4468-b97a-a341cbec9148",
   "metadata": {},
   "source": [
    "### Question 1 : Write a Program to Calculate the Sum of the First N Natural Numbers:"
   ]
  },
  {
   "cell_type": "code",
   "execution_count": 41,
   "id": "3f83d84b-8bd8-44a2-90a0-b4690e0ce219",
   "metadata": {},
   "outputs": [
    {
     "name": "stdout",
     "output_type": "stream",
     "text": [
      "the sum of first 3 natural number is: 6 \n"
     ]
    }
   ],
   "source": [
    "def sum(n):\n",
    "    value=0\n",
    "    i=0\n",
    "    while i<=n:\n",
    "        value=value+i\n",
    "        i+=1\n",
    "    print(f\"the sum of first {n} natural number is: {value} \")\n",
    "n=3\n",
    "sum(n)\n",
    "    "
   ]
  },
  {
   "cell_type": "markdown",
   "id": "9933d8cd-e006-450e-868b-fc7483bf730f",
   "metadata": {},
   "source": [
    "### Question 2 : Write a Program to Display the Multiplication Table of a Given Number:"
   ]
  },
  {
   "cell_type": "code",
   "execution_count": 43,
   "id": "1b06b2fd-de50-48a0-8c9d-de41f4665d02",
   "metadata": {},
   "outputs": [
    {
     "name": "stdout",
     "output_type": "stream",
     "text": [
      "4 x 1 =4\n",
      "4 x 2 =8\n",
      "4 x 3 =12\n",
      "4 x 4 =16\n",
      "4 x 5 =20\n",
      "4 x 6 =24\n",
      "4 x 7 =28\n",
      "4 x 8 =32\n",
      "4 x 9 =36\n",
      "4 x 10 =40\n"
     ]
    }
   ],
   "source": [
    "def multiplication(mul):\n",
    "    i=1\n",
    "    while i<=10:\n",
    "        res=mul*i\n",
    "        print(f'{mul} x {i} ={res}')\n",
    "        i+=1\n",
    "\n",
    "multiplication(4)"
   ]
  },
  {
   "cell_type": "markdown",
   "id": "87c90b10-240f-48c8-ae0c-a0c4a86860ee",
   "metadata": {},
   "source": [
    "#### 3. Write a program to greet all the person names stored in a list ‘l’ and which starts with S. l = [\"Harry\", \"Soham\", \"Sachin\", \"Rahul\"]\n",
    "\n",
    "\n"
   ]
  },
  {
   "cell_type": "code",
   "execution_count": 60,
   "id": "41dab3bb-d260-4132-bc43-ea71aec46715",
   "metadata": {},
   "outputs": [
    {
     "name": "stdout",
     "output_type": "stream",
     "text": [
      "Hello Soham\n",
      "Hello Sachin\n"
     ]
    }
   ],
   "source": [
    " l = [\"Harry\", \"Soham\", \"Sachin\", \"Rahul\"]\n",
    "for name in l:\n",
    "    if name.startswith('S'):\n",
    "        print(f\"Hello {name}\")\n",
    "    \n",
    "    \n",
    "    "
   ]
  },
  {
   "cell_type": "markdown",
   "id": "cd392f4f-c298-4b6f-9964-4e4abbed1aee",
   "metadata": {},
   "source": [
    "#### 4. Write a program to find whether a given number is prime or not."
   ]
  },
  {
   "cell_type": "code",
   "execution_count": 76,
   "id": "bb4fe6ce-ab18-4653-aa28-84a5b588a212",
   "metadata": {},
   "outputs": [
    {
     "name": "stdin",
     "output_type": "stream",
     "text": [
      "enter a number:  1\n"
     ]
    },
    {
     "name": "stdout",
     "output_type": "stream",
     "text": [
      "1 is not prime\n"
     ]
    }
   ],
   "source": [
    "n=int(input(\"enter a number: \"))\n",
    "if n <=1:\n",
    "    print(f\"{n} is not prime\")\n",
    "elif n==2:\n",
    "    print(f\"{n} is  smallest even prime\")\n",
    "else:\n",
    "    for i in range(2,n):\n",
    "        if n%i==0:\n",
    "            print(f\"{n} is not prime\")\n",
    "            break\n",
    "        else:\n",
    "            print(f\"{n} is prime\")\n",
    "    \n",
    "      "
   ]
  },
  {
   "cell_type": "code",
   "execution_count": 82,
   "id": "e8bad91f-e3db-440a-818a-2a8a895319b3",
   "metadata": {},
   "outputs": [
    {
     "name": "stdout",
     "output_type": "stream",
     "text": [
      "The prime number are [2, 3, 5, 7, 9]\n"
     ]
    }
   ],
   "source": [
    "numners=[1,2,3,4,5,6,7,8,9,10,11]\n",
    "prime_number=[]\n",
    "def is_prime(n):\n",
    "    if n <=1:\n",
    "        #print(f\"{n} is not prime\")\n",
    "        return False\n",
    "    elif n==2:\n",
    "        #print(f\"{n} is  smallest even prime\")\n",
    "        return True\n",
    "    else:\n",
    "        for i in range(2,n):\n",
    "            if n%i==0:\n",
    "                #print(f\"{n} is not prime\")\n",
    "                return False\n",
    "                break\n",
    "            else:\n",
    "                #print(f\"{n} is prime\")\n",
    "                return True\n",
    "\n",
    "for n in numbers:\n",
    "    if is_prime(n):\n",
    "        prime_number.append(n)\n",
    "print(f\"The prime number are {prime_number}\")\n",
    "           \n",
    "            \n",
    "    \n",
    "      "
   ]
  },
  {
   "cell_type": "code",
   "execution_count": 85,
   "id": "2ae48c89-d86d-40ac-a1b8-d97f31a83d23",
   "metadata": {},
   "outputs": [],
   "source": [
    "#### 7. Write a program to print the following star pattern.\n",
    "\n",
    " #   *\n",
    " #  ***\n",
    " # ***** for n = 3\n"
   ]
  },
  {
   "cell_type": "code",
   "execution_count": 112,
   "id": "f997ee57-f2d4-40a2-9858-b54b38d215ae",
   "metadata": {},
   "outputs": [
    {
     "name": "stdout",
     "output_type": "stream",
     "text": [
      "    *\n",
      "   ***\n",
      "  *****\n",
      " *******\n",
      "*********\n"
     ]
    }
   ],
   "source": [
    "n=5\n",
    "for i in range(1,n+1):\n",
    "    print(\" \" * (n-i),end=\"\")\n",
    "    print(\"*\" *(2*i-1))\n",
    "  "
   ]
  },
  {
   "cell_type": "code",
   "execution_count": 106,
   "id": "8b35c394-af38-48a1-9a3e-8ccd2a13c107",
   "metadata": {},
   "outputs": [],
   "source": [
    "# 8. *\n",
    "#    **\n",
    "#    ***"
   ]
  },
  {
   "cell_type": "code",
   "execution_count": 109,
   "id": "9ad026cc-e661-4354-8ea8-4fb1bdcaf282",
   "metadata": {},
   "outputs": [
    {
     "name": "stdout",
     "output_type": "stream",
     "text": [
      "*\n",
      "**\n",
      "***\n"
     ]
    }
   ],
   "source": [
    "n=3\n",
    "for i in range(1,n+1):\n",
    "   # print(\" \" * (n-i),end=\"\")\n",
    "    print(\"*\" *i)\n",
    "  "
   ]
  },
  {
   "cell_type": "code",
   "execution_count": 110,
   "id": "d10cd90b-69da-4ea1-b0e9-fbdd61b7dbd9",
   "metadata": {},
   "outputs": [],
   "source": [
    "#9.     * * *\n",
    "#       *   * for n = 3\n",
    "#       * * * \n"
   ]
  },
  {
   "cell_type": "code",
   "execution_count": 121,
   "id": "96b6e734-57b4-485b-bb99-14169a7c9835",
   "metadata": {},
   "outputs": [
    {
     "name": "stdout",
     "output_type": "stream",
     "text": [
      "******\n",
      "*    *\n",
      "*    *\n",
      "*    *\n",
      "*    *\n",
      "******\n"
     ]
    }
   ],
   "source": [
    "n=6\n",
    "for i in range(1,n+1):\n",
    "    if i==1 or i==n:\n",
    "        print(\"*\" * n)\n",
    "    else:\n",
    "        print(\"*\",end=\"\")\n",
    "        print(\" \"*(n-2),end=\"\")\n",
    "        print(\"*\")\n",
    "    "
   ]
  },
  {
   "cell_type": "code",
   "execution_count": null,
   "id": "4ee82236-f5c8-48c2-b9e0-093740300ad0",
   "metadata": {},
   "outputs": [],
   "source": []
  }
 ],
 "metadata": {
  "kernelspec": {
   "display_name": "Python 3 (ipykernel)",
   "language": "python",
   "name": "python3"
  },
  "language_info": {
   "codemirror_mode": {
    "name": "ipython",
    "version": 3
   },
   "file_extension": ".py",
   "mimetype": "text/x-python",
   "name": "python",
   "nbconvert_exporter": "python",
   "pygments_lexer": "ipython3",
   "version": "3.11.5"
  }
 },
 "nbformat": 4,
 "nbformat_minor": 5
}
