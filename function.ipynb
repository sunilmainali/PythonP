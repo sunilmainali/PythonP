{
 "cells": [
  {
   "cell_type": "markdown",
   "id": "4df840b0-972f-425a-9c89-1e81971d5073",
   "metadata": {},
   "source": [
    "#### Python Built-In Functions"
   ]
  },
  {
   "cell_type": "markdown",
   "id": "2a380749-f6fc-47e2-8376-45e6aa89f4c4",
   "metadata": {},
   "source": [
    "Python provides a large number of built-in functions that can be used to perform common tasks in your code. Here are some of the most commonly used built-in functions in Python."
   ]
  },
  {
   "cell_type": "markdown",
   "id": "a8dc7e68-d9c6-49cd-b781-de48a7d59bb7",
   "metadata": {},
   "source": [
    "##### print()"
   ]
  },
  {
   "cell_type": "markdown",
   "id": "ba737573-ed5b-4b25-9a8f-2dd2a916ea49",
   "metadata": {},
   "source": [
    "In Python, the print() function is used to output text or values to the console. It can be used to display text messages, variable values, or the results of calculations, among other things. In addition to this print() function can be customized with various arguments like:\n",
    "\n",
    "* sep: Used to specify the separator between multiple items being printed. The default separator is a space character. For example, print(\"x\", \"y\", sep=\"-\") would output x-y.\n",
    "* end: Used to specify the string that should be printed at the end of the line. The default is a newline character (\"\\n\"). For example, print(\"x\", end=\".\") would output x. without moving to the next line.\n",
    "* file: Used to specify the file object where the output should be directed. By default, the output is sent to the console. For example, print(\"x\", file=my_file) would write the output to the my_file file object.\n",
    "  \n"
   ]
  },
  {
   "cell_type": "markdown",
   "id": "2754d498-02d2-4cdf-9141-d3f9e2ee1fca",
   "metadata": {},
   "source": [
    "Here are some examples of how to use the print() function in Python:"
   ]
  },
  {
   "cell_type": "code",
   "execution_count": 1,
   "id": "1842c82c-8709-495f-8934-b1a31913d516",
   "metadata": {},
   "outputs": [
    {
     "name": "stdout",
     "output_type": "stream",
     "text": [
      "The value of y is: 10\n"
     ]
    }
   ],
   "source": [
    "x = 5\n",
    "y = x * 2\n",
    "print(\"The value of y is:\", y)   # Printing a variable value\n"
   ]
  },
  {
   "cell_type": "code",
   "execution_count": 2,
   "id": "71eb340d-f05a-485b-bb24-27a7f05401d0",
   "metadata": {},
   "outputs": [
    {
     "name": "stdout",
     "output_type": "stream",
     "text": [
      "x is 5 and y is 10\n"
     ]
    }
   ],
   "source": [
    "print(\"x is\", x, \"and y is\", y)  # Printing multiple items using commas to separate them\n"
   ]
  },
  {
   "cell_type": "code",
   "execution_count": 3,
   "id": "40075a66-7a3a-44d2-8afe-85b64d8b6703",
   "metadata": {},
   "outputs": [
    {
     "name": "stdout",
     "output_type": "stream",
     "text": [
      "The value of x is 5 and the value of y is 10\n",
      "The value of x is 5 and the value of y is 10\n"
     ]
    }
   ],
   "source": [
    "print(\"The value of x is {} and the value of y is {}\".format(x, y)) # Using string formatting\n",
    "print(f\"The value of x is {x} and the value of y is {y}\")  # Using f-strings"
   ]
  },
  {
   "cell_type": "code",
   "execution_count": 4,
   "id": "d963fa12-f374-4900-bbcf-5fed65cfe9f7",
   "metadata": {},
   "outputs": [
    {
     "name": "stdout",
     "output_type": "stream",
     "text": [
      "Hello-World\n"
     ]
    }
   ],
   "source": [
    "print(\"Hello\", \"World\", sep=\"-\")  # Using Seperator"
   ]
  },
  {
   "cell_type": "code",
   "execution_count": 5,
   "id": "b9886b8c-f1f4-42c4-8a87-8f68f8aae1fe",
   "metadata": {},
   "outputs": [
    {
     "name": "stdout",
     "output_type": "stream",
     "text": [
      "Hello World."
     ]
    }
   ],
   "source": [
    "print(\"Hello World\", end=\".\") # Defining End of line\n"
   ]
  },
  {
   "cell_type": "markdown",
   "id": "acfaec06-dce4-42f8-b423-bec2f0ada8dd",
   "metadata": {},
   "source": [
    "#### type()"
   ]
  },
  {
   "cell_type": "markdown",
   "id": "5b8004ee-06d4-4b1a-b964-ac3532800995",
   "metadata": {},
   "source": [
    "In Python, the type() function is used to find the data type of a variable or expression. It returns the type of the object as a string.\n",
    "\n"
   ]
  },
  {
   "cell_type": "markdown",
   "id": "4c47dcc1-a746-467b-9dfd-56ec3bac1e05",
   "metadata": {},
   "source": [
    "Here are some examples of how to use the type() function in Python:\n",
    "\n"
   ]
  },
  {
   "cell_type": "code",
   "execution_count": 6,
   "id": "550077ff-806c-48cf-aca0-126ee2f1e326",
   "metadata": {},
   "outputs": [
    {
     "name": "stdout",
     "output_type": "stream",
     "text": [
      "<class 'int'>\n",
      "<class 'float'>\n"
     ]
    }
   ],
   "source": [
    "print(type(5))                           \n",
    "print(type(3.14))  "
   ]
  },
  {
   "cell_type": "code",
   "execution_count": 7,
   "id": "09ced607-109a-4bef-9e46-319b7143bc75",
   "metadata": {},
   "outputs": [
    {
     "name": "stdout",
     "output_type": "stream",
     "text": [
      "<class 'bool'>\n"
     ]
    }
   ],
   "source": [
    "print(type(True))  "
   ]
  },
  {
   "cell_type": "code",
   "execution_count": 8,
   "id": "328552d0-1c8c-44e8-b01d-1ed092f282c6",
   "metadata": {},
   "outputs": [
    {
     "name": "stdout",
     "output_type": "stream",
     "text": [
      "<class 'list'>\n",
      "<class 'dict'>\n"
     ]
    }
   ],
   "source": [
    "print(type([1, 2, 3]))                   \n",
    "print(type({\"name\": \"John\", \"age\": 30})) "
   ]
  },
  {
   "cell_type": "markdown",
   "id": "ff9bcce2-fb78-422f-a8dc-6a871608f4cb",
   "metadata": {},
   "source": [
    "#### input()"
   ]
  },
  {
   "cell_type": "markdown",
   "id": "76a156da-6fe1-4d3c-9af9-8b842e3c4d60",
   "metadata": {},
   "source": [
    "In Python, the input() function is used to accept input from the user. It prompts the user to enter a value, and then returns the entered value as a string.\n",
    "\n",
    "\n"
   ]
  },
  {
   "cell_type": "markdown",
   "id": "94195190-7856-4b0c-9842-ecdeada55d38",
   "metadata": {},
   "source": [
    "Note that the input() function always returns a string, so you may need to convert the entered value to another data type if you need to use it as a number or other data type. For example, if you want to accept a number as input, you can convert the entered value to an integer using the int() function:\n",
    "\n"
   ]
  },
  {
   "cell_type": "code",
   "execution_count": 10,
   "id": "95031f1a-838b-46ed-a66e-a64403bf2c73",
   "metadata": {},
   "outputs": [
    {
     "name": "stdin",
     "output_type": "stream",
     "text": [
      "What is your name?  sunil\n"
     ]
    },
    {
     "name": "stdout",
     "output_type": "stream",
     "text": [
      "Hello, sunil!\n"
     ]
    }
   ],
   "source": [
    "name = input(\"What is your name? \")\n",
    "print(\"Hello, \" + name + \"!\")"
   ]
  },
  {
   "cell_type": "markdown",
   "id": "3d30c86f-c973-40da-88e6-2122d22386b8",
   "metadata": {},
   "source": [
    "#### len()"
   ]
  },
  {
   "cell_type": "markdown",
   "id": "341f685f-08ea-43b1-ac25-a709d1309d0d",
   "metadata": {},
   "source": [
    "In Python, the len() function is used to get the length of a sequence or collection, such as a str, list, tuple, or dict. It returns the number of elements or characters in the sequence.\n",
    "\n"
   ]
  },
  {
   "cell_type": "markdown",
   "id": "6c6ba04d-5f81-4145-8e0b-59c97fee6dfe",
   "metadata": {},
   "source": [
    "Note that the len() function only works with sequences and collections that have a defined length. It cannot be used with other types of data, such as numbers or booleans.\n",
    "\n"
   ]
  },
  {
   "cell_type": "code",
   "execution_count": 11,
   "id": "fbd496c8-7c6b-4f25-aacf-50ed10a5ca01",
   "metadata": {},
   "outputs": [
    {
     "name": "stdout",
     "output_type": "stream",
     "text": [
      "13\n"
     ]
    }
   ],
   "source": [
    "my_string = \"Hello, world!\"  # Get the length of a string\n",
    "print(len(my_string))  "
   ]
  },
  {
   "cell_type": "code",
   "execution_count": 12,
   "id": "f2cc6962-a5c1-4c59-b255-7795d042e08b",
   "metadata": {},
   "outputs": [
    {
     "name": "stdout",
     "output_type": "stream",
     "text": [
      "5\n"
     ]
    }
   ],
   "source": [
    "my_list = [1, 2, 3, 4, 5]    # Get the length of a list\n",
    "print(len(my_list))       "
   ]
  },
  {
   "cell_type": "code",
   "execution_count": 13,
   "id": "9cb8a13f-0215-4c65-9f95-6f363e5d2420",
   "metadata": {},
   "outputs": [
    {
     "name": "stdout",
     "output_type": "stream",
     "text": [
      "5\n"
     ]
    }
   ],
   "source": [
    "my_tuple = (1, 2, 3, 4, 5)   # Get the length of a tuple\n",
    "print(len(my_tuple))   "
   ]
  },
  {
   "cell_type": "code",
   "execution_count": 14,
   "id": "0e4da4c3-edb0-43d2-9aa6-ce92cafc713d",
   "metadata": {},
   "outputs": [
    {
     "name": "stdout",
     "output_type": "stream",
     "text": [
      "2\n"
     ]
    }
   ],
   "source": [
    "my_dict = {\"apple\": 1, \"banana\": 2}  # Get the length of a dictionary\n",
    "print(len(my_dict))  "
   ]
  },
  {
   "cell_type": "markdown",
   "id": "1d123350-e4ba-4d82-99a3-9aa84596496e",
   "metadata": {},
   "source": [
    "\n",
    "#### dir()"
   ]
  },
  {
   "cell_type": "markdown",
   "id": "0360ab43-e19a-4246-8c8c-6392f15ef573",
   "metadata": {},
   "source": [
    "In Python, the dir() function is used to list all the attributes and methods of an object. It returns a sorted list of names in the given object.\n",
    "\n"
   ]
  },
  {
   "cell_type": "code",
   "execution_count": 15,
   "id": "0b2427a9-80ad-4258-aebf-a202eb275782",
   "metadata": {},
   "outputs": [
    {
     "name": "stdout",
     "output_type": "stream",
     "text": [
      "['__add__', '__class__', '__contains__', '__delattr__', '__dir__', '__doc__', '__eq__', '__format__', '__ge__', '__getattribute__', '__getitem__', '__getnewargs__', '__getstate__', '__gt__', '__hash__', '__init__', '__init_subclass__', '__iter__', '__le__', '__len__', '__lt__', '__mod__', '__mul__', '__ne__', '__new__', '__reduce__', '__reduce_ex__', '__repr__', '__rmod__', '__rmul__', '__setattr__', '__sizeof__', '__str__', '__subclasshook__', 'capitalize', 'casefold', 'center', 'count', 'encode', 'endswith', 'expandtabs', 'find', 'format', 'format_map', 'index', 'isalnum', 'isalpha', 'isascii', 'isdecimal', 'isdigit', 'isidentifier', 'islower', 'isnumeric', 'isprintable', 'isspace', 'istitle', 'isupper', 'join', 'ljust', 'lower', 'lstrip', 'maketrans', 'partition', 'removeprefix', 'removesuffix', 'replace', 'rfind', 'rindex', 'rjust', 'rpartition', 'rsplit', 'rstrip', 'split', 'splitlines', 'startswith', 'strip', 'swapcase', 'title', 'translate', 'upper', 'zfill']\n"
     ]
    }
   ],
   "source": [
    "x = \"Hello\"\n",
    "print(dir(x))"
   ]
  },
  {
   "cell_type": "markdown",
   "id": "2ae5419b-64a4-4477-abd5-deee46fffa24",
   "metadata": {},
   "source": [
    "#### Python Functions"
   ]
  },
  {
   "cell_type": "markdown",
   "id": "074d2fd6-6ee1-4e1a-a55a-3cae97466972",
   "metadata": {},
   "source": [
    "A function is a block of reusable code that performs a specific task. A function can take one or more arguments as input, perform some operations on the input, and then return a value as output. Here's the general syntax for defining a function in Python:\n",
    "\n"
   ]
  },
  {
   "cell_type": "markdown",
   "id": "2715d720-2a40-45bf-8b77-411bdcf71920",
   "metadata": {},
   "source": [
    "```python\n",
    "def function_name(parameter1, parameter2, ...):\n",
    "    # Function body\n",
    "    return output_value"
   ]
  },
  {
   "cell_type": "markdown",
   "id": "2b71e754-a314-4324-8c10-132ecbf92f06",
   "metadata": {},
   "source": [
    "In this syntax, def is the keyword used to define a function, function_name is the name of the function, and parameter1, parameter2, etc. are the input parameters of the function. The return keyword is used to specify the output value of the function.\n",
    "\n"
   ]
  },
  {
   "cell_type": "markdown",
   "id": "80cf94b4-986e-4997-9664-182b34b61308",
   "metadata": {},
   "source": [
    "Here's an example that demonstrates how to define a function that computes the sum of two numbers:\n",
    "\n"
   ]
  },
  {
   "cell_type": "code",
   "execution_count": 19,
   "id": "a403d86f-ecb2-4efc-897d-61a74f846b66",
   "metadata": {},
   "outputs": [
    {
     "name": "stdout",
     "output_type": "stream",
     "text": [
      "12\n"
     ]
    }
   ],
   "source": [
    "\n",
    "\n",
    "def add_numbers(a, b):\n",
    "    sum = a + b\n",
    "    # print(sum)\n",
    "    return sum\n",
    "\n",
    "result = add_numbers(a = 7, b = 5)\n",
    "print(result)\n",
    "    "
   ]
  },
  {
   "cell_type": "markdown",
   "id": "69166084-0e2c-492f-a407-71f21e983920",
   "metadata": {},
   "source": [
    "In this example, we define a function called add_numbers that takes two input parameters a and b, computes their sum, and returns the result. We then call the function with arguments 3 and 5 and store the result in a variable called result. Finally, we print the value of result.\n",
    "\n"
   ]
  },
  {
   "cell_type": "markdown",
   "id": "daabf076-7504-417a-9d83-8cc451eeea71",
   "metadata": {},
   "source": [
    "Functions in Python can also have optional parameters with default values, which allows the caller to omit certain arguments if they are not needed. Here's an example that demonstrates how to define a function with optional parameters:\n",
    "\n"
   ]
  },
  {
   "cell_type": "code",
   "execution_count": 20,
   "id": "857ebaeb-d14c-44e7-ab39-248cff8fbf25",
   "metadata": {},
   "outputs": [],
   "source": [
    "def greet(name, greeting='Hello'):\n",
    "    message = f\"{greeting}, {name}!\"\n",
    "    return message"
   ]
  },
  {
   "cell_type": "code",
   "execution_count": 23,
   "id": "c6ff77b8-4ace-4de9-94b0-13e21d0581d4",
   "metadata": {},
   "outputs": [
    {
     "name": "stdout",
     "output_type": "stream",
     "text": [
      "Hello, Alice!\n",
      "Hi, Bob!\n"
     ]
    }
   ],
   "source": [
    "print(greet('Alice'))\n",
    "print(greet('Bob', 'Hi'))"
   ]
  },
  {
   "cell_type": "markdown",
   "id": "42d80bb4-7001-4b1d-807b-cfd1c73db055",
   "metadata": {},
   "source": [
    "In this example, we define a function called greet that takes an input parameter name and an optional parameter greeting with a default value of 'Hello'. The function returns a greeting message that includes the name and the greeting. We then call the function with only the name argument in the first case, and with both name and greeting arguments in the second case.\n",
    "\n"
   ]
  },
  {
   "cell_type": "markdown",
   "id": "95b2c4f6-41b1-4c3f-b7a7-c639d57dc117",
   "metadata": {},
   "source": [
    "Functions in Python can also have variable-length argument lists. These are called *args and **kwargs, and they allow the function to accept any number of arguments and keyword arguments, respectively. Here's an example that demonstrates how to define a function with variable-length argument lists:\n",
    "\n"
   ]
  },
  {
   "cell_type": "code",
   "execution_count": 63,
   "id": "c0d9ee33-f097-4130-be12-7428ff4ab0d8",
   "metadata": {},
   "outputs": [
    {
     "name": "stdout",
     "output_type": "stream",
     "text": [
      "Positional arguments:\n",
      "1\n",
      "hello\n",
      "ram\n",
      "--------------------\n",
      "Keyword arguments:\n",
      "name = Alice\n",
      "age = 30\n"
     ]
    }
   ],
   "source": [
    "def print_arguments(*args, **kwargs):\n",
    "    \n",
    "    print(\"Positional arguments:\")\n",
    "    for arg in args:\n",
    "        print(arg)\n",
    "        \n",
    "    print(\"-\"*20)\n",
    "    \n",
    "    print(\"Keyword arguments:\")\n",
    "    for key, value in kwargs.items():\n",
    "        print(key, \"=\", value)\n",
    "        \n",
    "\n",
    "result = print_arguments(1, 'hello', \"ram\",  name='Alice', age=30)"
   ]
  },
  {
   "cell_type": "markdown",
   "id": "2fa8acd9-57fc-4d37-8d51-12bfbf5f7ca9",
   "metadata": {},
   "source": [
    "In this example, we define a function called `print_arguments that accepts a variable number of positional arguments (*args) and keyword arguments (**kwargs). The function then prints the positional and keyword arguments to the console.\n",
    "\n"
   ]
  },
  {
   "cell_type": "markdown",
   "id": "40cbd275-9d1b-4c53-b5ea-7dc6211c370c",
   "metadata": {},
   "source": [
    "When we call the function with arguments 1, 'hello', name='Alice', and age=30, the function prints the positional arguments 1 and 'hello', and the keyword arguments name='Alice' and age=30'.\n",
    "\n"
   ]
  },
  {
   "cell_type": "markdown",
   "id": "c34aedc7-aa34-4954-bfd3-ec674ccef32d",
   "metadata": {},
   "source": [
    "#### Documentation in Function\n"
   ]
  },
  {
   "cell_type": "markdown",
   "id": "f52281d6-05ad-4fc3-ad90-38c65a0b853a",
   "metadata": {},
   "source": [
    "Python docstrings are the string literals that appear right after the definition of a function, method, class, or module. Let's take an example.\n",
    "\n"
   ]
  },
  {
   "cell_type": "code",
   "execution_count": 25,
   "id": "f5842487-86c1-4ca5-923a-94d491f377b2",
   "metadata": {},
   "outputs": [],
   "source": [
    "def square(n):\n",
    "    '''\n",
    "    Takes in a number n, returns the square of n\n",
    "\n",
    "    Argument:\n",
    "        n (int) : User input number\n",
    "    '''\n",
    "    return n**2"
   ]
  },
  {
   "cell_type": "code",
   "execution_count": 26,
   "id": "7fbfd2d2-b3cf-41b0-b9d1-103579485d4f",
   "metadata": {},
   "outputs": [
    {
     "data": {
      "text/plain": [
       "9"
      ]
     },
     "execution_count": 26,
     "metadata": {},
     "output_type": "execute_result"
    }
   ],
   "source": [
    "square(3)"
   ]
  },
  {
   "cell_type": "code",
   "execution_count": 31,
   "id": "278f6347-7cb1-4f49-b242-427819673eea",
   "metadata": {},
   "outputs": [
    {
     "name": "stdout",
     "output_type": "stream",
     "text": [
      "\n",
      "    Takes in a number n, returns the square of n\n",
      "\n",
      "    Argument:\n",
      "        n (int) : User input number\n",
      "    \n"
     ]
    }
   ],
   "source": [
    "print(square.__doc__)"
   ]
  },
  {
   "cell_type": "code",
   "execution_count": 33,
   "id": "f48df8d9-31ea-4482-92b0-0cc1ad3142b2",
   "metadata": {},
   "outputs": [
    {
     "name": "stdout",
     "output_type": "stream",
     "text": [
      "Prints the values to a stream, or to sys.stdout by default.\n",
      "\n",
      "  sep\n",
      "    string inserted between values, default a space.\n",
      "  end\n",
      "    string appended after the last value, default a newline.\n",
      "  file\n",
      "    a file-like object (stream); defaults to the current sys.stdout.\n",
      "  flush\n",
      "    whether to forcibly flush the stream.\n"
     ]
    }
   ],
   "source": [
    "print(print.__doc__)"
   ]
  },
  {
   "cell_type": "markdown",
   "id": "7766fbd3-7132-4c68-a320-e1f0d46765d1",
   "metadata": {},
   "source": [
    "#### Question: Default Parameter Values"
   ]
  },
  {
   "cell_type": "markdown",
   "id": "7654608a-ff68-41ce-8af3-cb971f798a09",
   "metadata": {},
   "source": [
    "###### Write a Program to Define a Function power that takes two arguments, base and exp. The function should return base raised to the power of exp.\n",
    "###### If exp is not provided, it should default to 2. Call this function with and without the second argument and print the results.\n",
    "\n"
   ]
  },
  {
   "cell_type": "code",
   "execution_count": 34,
   "id": "66d1e86f-5bbd-4129-9383-9d99fd85f385",
   "metadata": {},
   "outputs": [
    {
     "name": "stdout",
     "output_type": "stream",
     "text": [
      "4\n"
     ]
    }
   ],
   "source": [
    "def power(base: int,exp=2):\n",
    "    result=base**exp\n",
    "    return result\n",
    "\n",
    "squared=power(2)\n",
    "print(squared)"
   ]
  },
  {
   "cell_type": "code",
   "execution_count": 36,
   "id": "062afbd0-b255-4193-9f1c-52323e3bb955",
   "metadata": {},
   "outputs": [
    {
     "name": "stdout",
     "output_type": "stream",
     "text": [
      "8\n"
     ]
    }
   ],
   "source": [
    "print(power(2,3))"
   ]
  },
  {
   "cell_type": "markdown",
   "id": "eb81e133-c104-459f-9068-b5b58a53a81c",
   "metadata": {},
   "source": [
    "#### Question : Variable-length Arguments (*args and **kwargs)"
   ]
  },
  {
   "cell_type": "markdown",
   "id": "ca46e943-9a7b-4648-9e4b-9aaf4cece58c",
   "metadata": {},
   "source": [
    "##### Write a Program to Define a Function describe_pet that accepts a variable number of keyword arguments (**kwargs).\n",
    "\n",
    "The function should print the details of these keyword arguments as \"property: value\". Call this function with pet details like name, age, and type"
   ]
  },
  {
   "cell_type": "code",
   "execution_count": 37,
   "id": "e80a053e-a06a-4d7a-a996-75181ddd5bd6",
   "metadata": {},
   "outputs": [
    {
     "name": "stdout",
     "output_type": "stream",
     "text": [
      "name : naughty\n",
      "type : dog\n",
      "age : 5\n",
      "breed : bulldog\n"
     ]
    }
   ],
   "source": [
    "def describe_pet(**kwargs):\n",
    "    for key,value in kwargs.items():\n",
    "        print(f'{key} : {value}')\n",
    "\n",
    "describe_pet(name='naughty',type='dog',age=5,breed='bulldog')"
   ]
  },
  {
   "cell_type": "markdown",
   "id": "eee6c34f-bc27-4e24-bf84-ca1884d8a1b4",
   "metadata": {},
   "source": [
    "#### Question: Recursive Function"
   ]
  },
  {
   "cell_type": "markdown",
   "id": "92290957-7b62-4fbf-a938-07a681364fcc",
   "metadata": {},
   "source": [
    "##### Write a Program to Define a Recursive Function fibonacci that takes a number n as an argument and returns the nth number in the Fibonacci sequence.\n",
    "\n"
   ]
  },
  {
   "cell_type": "markdown",
   "id": "d2fd4f28-5ea0-49da-b9c5-bdf155749707",
   "metadata": {},
   "source": [
    "Recall that the Fibonacci sequence is defined as fib(n) = fib(n-1) + fib(n-2) with base cases fib(0) = 0 and fib(1) = 1. Call this function with n = 5 and print the result.\n",
    "\n"
   ]
  },
  {
   "cell_type": "markdown",
   "id": "9595945a-c496-4542-b279-f073dfc676ae",
   "metadata": {},
   "source": [
    "0,1,1,2,3,5,8,13..."
   ]
  },
  {
   "cell_type": "code",
   "execution_count": 50,
   "id": "00d584a5-76dd-4ffc-8a3f-64ca948cc194",
   "metadata": {},
   "outputs": [
    {
     "name": "stdout",
     "output_type": "stream",
     "text": [
      "2\n"
     ]
    }
   ],
   "source": [
    "def fibonacci(n):\n",
    "    if n==0:\n",
    "        return 0\n",
    "    elif n==1:\n",
    "        return 1\n",
    "    else:\n",
    "        return fibonacci(n-1)+fibonacci(n-2)\n",
    "\n",
    "result=fibonacci(3)\n",
    "print(result)"
   ]
  },
  {
   "cell_type": "code",
   "execution_count": 53,
   "id": "0d3c5c55-5858-4e2d-9dfc-1fb01b8f990c",
   "metadata": {},
   "outputs": [
    {
     "name": "stdout",
     "output_type": "stream",
     "text": [
      "[0, 1, 1, 2, 3, 5, 8, 13, 21, 34, 55, 89]\n"
     ]
    }
   ],
   "source": [
    "def fibonacci(n):\n",
    "    fib_list=[]\n",
    "    if n>0:\n",
    "        fib_list.append(0)\n",
    "    if n>1:\n",
    "        fib_list.append(1)\n",
    "    for i in range(2,n):\n",
    "        next_fib=fib_list[-1]+fib_list[-2]\n",
    "        fib_list.append(next_fib)\n",
    "\n",
    "    return fib_list\n",
    "\n",
    "res=fibonacci(12)\n",
    "print(res)\n",
    "        "
   ]
  },
  {
   "cell_type": "code",
   "execution_count": 62,
   "id": "b208cf3b-b2a7-4bea-8b4f-df8be413d52e",
   "metadata": {},
   "outputs": [
    {
     "name": "stdout",
     "output_type": "stream",
     "text": [
      "[0, 1, 1, 2]\n",
      "the sum of the given fibonacci number is: 4\n"
     ]
    }
   ],
   "source": [
    "\n",
    "def fibonacci(n):\n",
    "    fib_list=[]\n",
    "    if n>0:\n",
    "        fib_list.append(0)\n",
    "    if n>1:\n",
    "        fib_list.append(1)\n",
    "    for i in range(2,n):\n",
    "        next_fib=fib_list[-1]+fib_list[-2]\n",
    "        fib_list.append(next_fib)\n",
    "\n",
    "    return fib_list\n",
    "\n",
    "def sum_fibonacci(n):\n",
    "    fib_list=fibonacci(n)\n",
    "    f_sum=sum(fib_list)\n",
    "    return f_sum\n",
    "n=4\n",
    "res=fibonacci(n)\n",
    "f_sum=sum_fibonacci(n)\n",
    "print(res)\n",
    "print(f'the sum of the given fibonacci number is: {f_sum}') \n",
    "        "
   ]
  },
  {
   "cell_type": "markdown",
   "id": "7b2a50ba-16d6-444b-a67f-91e671f8b0e9",
   "metadata": {},
   "source": [
    "##### Python Lambda Expressions"
   ]
  },
  {
   "cell_type": "markdown",
   "id": "bb2e7d2f-0ea6-4d39-9edb-d2c02b11d48f",
   "metadata": {},
   "source": [
    "In Python, a lambda expression is a way to create a small, anonymous function without using the def keyword. Lambda expressions are useful for writing simple functions that can be passed as arguments to other functions. The general syntax for a lambda expression is as follows:\n",
    "\n"
   ]
  },
  {
   "cell_type": "markdown",
   "id": "e5b3f51c-7048-4d46-aa77-64e1d13738e2",
   "metadata": {},
   "source": [
    "``` python\n",
    "lambda arguments: expression\n"
   ]
  },
  {
   "cell_type": "markdown",
   "id": "219573f8-201b-4bf1-9930-3362fd2e5b1f",
   "metadata": {},
   "source": [
    "In this syntax, arguments is a comma-separated list of input arguments, and expression is a single expression that is evaluated and returned as the output of the function. The resulting lambda function can be assigned to a variable, or passed as an argument to another function.\n",
    "\n",
    "\n"
   ]
  },
  {
   "cell_type": "code",
   "execution_count": 3,
   "id": "528ad0ce-59f6-4d07-aedd-6167c8bef8a4",
   "metadata": {},
   "outputs": [
    {
     "data": {
      "text/plain": [
       "8"
      ]
     },
     "execution_count": 3,
     "metadata": {},
     "output_type": "execute_result"
    }
   ],
   "source": [
    "sum=lambda a,b:a+b\n",
    "res=sum(3,5)\n",
    "res"
   ]
  },
  {
   "cell_type": "code",
   "execution_count": 6,
   "id": "589214df-7641-4b6e-9e69-e5e59443342e",
   "metadata": {},
   "outputs": [
    {
     "name": "stdout",
     "output_type": "stream",
     "text": [
      "[1, 4, 9, 16, 25]\n"
     ]
    }
   ],
   "source": [
    "numbers = [1, 2, 3, 4, 5]\n",
    "squares = list(map(lambda x: x**2, numbers))\n",
    "print(squares)"
   ]
  },
  {
   "cell_type": "markdown",
   "id": "ab5e450b-9a19-4730-8313-c78c575f574a",
   "metadata": {},
   "source": [
    "#### 1. Write a program using functions to find greatest of three numbers."
   ]
  },
  {
   "cell_type": "code",
   "execution_count": 10,
   "id": "5e8dde7a-e74f-4c9d-8916-a86c54eb07b6",
   "metadata": {},
   "outputs": [
    {
     "name": "stdin",
     "output_type": "stream",
     "text": [
      "enter a number:  6\n",
      "enter a number:  6\n",
      "enter a number:  6\n"
     ]
    },
    {
     "name": "stdout",
     "output_type": "stream",
     "text": [
      "the greatest of three number 6,6,6 is 6\n"
     ]
    }
   ],
   "source": [
    "a=int(input(\"enter a number: \"))\n",
    "b=int(input(\"enter a number: \"))\n",
    "c=int(input(\"enter a number: \"))\n",
    "\n",
    "def greatest(a,b,c):\n",
    "    if a>b and a>c:\n",
    "        return a \n",
    "    elif b>a and b>c:\n",
    "        return b\n",
    "    else:\n",
    "        return c\n",
    "\n",
    "res=greatest(a,b,c)\n",
    "print(f\"the greatest of three number {a},{b},{c} is {res}\")\n",
    "         "
   ]
  },
  {
   "cell_type": "markdown",
   "id": "f1ea8b74-ebd0-44e6-9ad8-9141b98132d2",
   "metadata": {},
   "source": [
    "#### 2. Write a python program using function to convert Celsius to Fahrenheit"
   ]
  },
  {
   "cell_type": "code",
   "execution_count": 14,
   "id": "2bb76b95-a408-4e3b-b6d7-08051874abd6",
   "metadata": {},
   "outputs": [
    {
     "name": "stdin",
     "output_type": "stream",
     "text": [
      "enter a degree celcius temperature:  37\n"
     ]
    },
    {
     "name": "stdout",
     "output_type": "stream",
     "text": [
      "99.5 °F\n"
     ]
    }
   ],
   "source": [
    "c=float(input(\"enter a degree celcius temperature: \"))\n",
    "def celciusTofahrenheit(c):\n",
    "    f=(c*9/5)+32\n",
    "    return f\n",
    "fah=celciusTofahrenheit(c)\n",
    "print(f\"{round(f,2)} °F\")"
   ]
  },
  {
   "cell_type": "markdown",
   "id": "583ab9af-e1cb-4d1c-b42c-5b210fdf7940",
   "metadata": {},
   "source": [
    "#### 3. Write a recursive function to calculate the sum of first n natural numbers."
   ]
  },
  {
   "cell_type": "code",
   "execution_count": 15,
   "id": "1919d513-48c7-450e-a789-fce3070230ee",
   "metadata": {},
   "outputs": [
    {
     "name": "stdout",
     "output_type": "stream",
     "text": [
      "10\n"
     ]
    }
   ],
   "source": [
    "def sum(n):\n",
    "    if n==1:\n",
    "        return 1\n",
    "    return sum(n-1)+n\n",
    "print(sum(4))"
   ]
  },
  {
   "cell_type": "markdown",
   "id": "2b73f400-4ac7-4375-a557-bf3a4c69840d",
   "metadata": {},
   "source": [
    "#### 4. Write a python function to print first n lines of the following pattern:\n"
   ]
  },
  {
   "cell_type": "code",
   "execution_count": 32,
   "id": "611b9955-8673-4c92-8018-3532333731fd",
   "metadata": {},
   "outputs": [],
   "source": [
    "# ***\n",
    "# **\n",
    "# *"
   ]
  },
  {
   "cell_type": "code",
   "execution_count": 30,
   "id": "90738587-7d4b-47be-ba95-1d536f69a473",
   "metadata": {},
   "outputs": [
    {
     "name": "stdout",
     "output_type": "stream",
     "text": [
      "***\n",
      "**\n",
      "*\n"
     ]
    }
   ],
   "source": [
    "\n",
    "def pattern(n):\n",
    "    for i in range(n,0,-1):\n",
    "        print(\"*\" *i)\n",
    "\n",
    "\n",
    "pattern(3)  \n"
   ]
  },
  {
   "cell_type": "code",
   "execution_count": 31,
   "id": "1685905b-8a1b-4890-91dd-f8506c4c1796",
   "metadata": {},
   "outputs": [
    {
     "name": "stdout",
     "output_type": "stream",
     "text": [
      "****\n",
      "***\n",
      "**\n",
      "*\n"
     ]
    }
   ],
   "source": [
    "def pattern(n):\n",
    "    if(n==0):\n",
    "        return\n",
    "    print(\"*\" *n)\n",
    "    pattern(n-1)\n",
    "\n",
    "pattern(4)"
   ]
  },
  {
   "cell_type": "code",
   "execution_count": null,
   "id": "ba5f8c3c-b681-4d6c-a65a-866d9cea9234",
   "metadata": {},
   "outputs": [],
   "source": []
  }
 ],
 "metadata": {
  "kernelspec": {
   "display_name": "Python 3 (ipykernel)",
   "language": "python",
   "name": "python3"
  },
  "language_info": {
   "codemirror_mode": {
    "name": "ipython",
    "version": 3
   },
   "file_extension": ".py",
   "mimetype": "text/x-python",
   "name": "python",
   "nbconvert_exporter": "python",
   "pygments_lexer": "ipython3",
   "version": "3.11.5"
  }
 },
 "nbformat": 4,
 "nbformat_minor": 5
}
