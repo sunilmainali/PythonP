{
 "cells": [
  {
   "cell_type": "code",
   "execution_count": 5,
   "id": "b8b6bf9e-ad90-46e9-9988-8b73f029945a",
   "metadata": {},
   "outputs": [
    {
     "name": "stdin",
     "output_type": "stream",
     "text": [
      "enter your choice  w\n"
     ]
    },
    {
     "name": "stdout",
     "output_type": "stream",
     "text": [
      " you choose water \n",
      "      and computer choose gun\n",
      "you win!\n"
     ]
    }
   ],
   "source": [
    "'''        s=snake=1,\n",
    "    w=water=-1,\n",
    "              g=gun=0\n",
    "        '''\n",
    "import random\n",
    "computer=random.choice([1,-1,0])\n",
    "\n",
    "yourc=input(\"enter your choice \")\n",
    "dict={'s':1,'w':-1,'g':0}\n",
    "you=dict[yourc]\n",
    "\n",
    "reverseDict={1:'snake',-1:'water',0:'gun'}\n",
    "print(f\" you choose {reverseDict[you]} \\n      and computer choose {reverseDict[computer]}\")\n",
    "\n",
    "if (computer==you):\n",
    "    print(\"its a draw\")\n",
    "else:\n",
    "    if (computer == 1 and you == -1):\n",
    "        print(\"you lose!\")\n",
    "    elif (computer == 1 and you == 0):\n",
    "        print(\"you win!\")\n",
    "        \n",
    "    elif (computer == -1 and you == 1):\n",
    "        print(\"you win!\")\n",
    "    elif (computer == -1 and you == 0):\n",
    "        print(\"you lose!\")\n",
    "        \n",
    "    elif (computer == 0 and you == -1):\n",
    "        print(\"you win!\")\n",
    "    elif (computer == 0 and you == 1):\n",
    "        print(\"you lose!\")\n",
    "\n",
    "        \n",
    "\n"
   ]
  },
  {
   "cell_type": "code",
   "execution_count": null,
   "id": "9308d411-5d3f-4fef-b4ea-2c0462767f08",
   "metadata": {},
   "outputs": [],
   "source": []
  }
 ],
 "metadata": {
  "kernelspec": {
   "display_name": "Python 3 (ipykernel)",
   "language": "python",
   "name": "python3"
  },
  "language_info": {
   "codemirror_mode": {
    "name": "ipython",
    "version": 3
   },
   "file_extension": ".py",
   "mimetype": "text/x-python",
   "name": "python",
   "nbconvert_exporter": "python",
   "pygments_lexer": "ipython3",
   "version": "3.11.5"
  }
 },
 "nbformat": 4,
 "nbformat_minor": 5
}
